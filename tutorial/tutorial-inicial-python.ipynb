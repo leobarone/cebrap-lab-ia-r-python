{
 "cells": [
  {
   "cell_type": "markdown",
   "id": "18fbbf6d",
   "metadata": {},
   "source": [
    "# Tutorial — Manipulação de dados com **pandas** (versão Python do tutorial em R)\n",
    "\n",
    "Um dos aspectos mais incríveis do ecossistema Python para ciência de dados é a quantidade de bibliotecas criadas pela comunidade. Assim como no R existem diferentes “gramáticas”, em Python temos estilos e padrões consolidados — aqui vamos focar no **pandas**, que é o “dialeto” mais popular para trabalhar com data frames (tabelas).\n",
    "\n",
    "Vamos recontar o seu tutorial — mantendo a linguagem e o espírito — mas agora em **Python**.\n"
   ]
  },
  {
   "cell_type": "markdown",
   "id": "ba8e69b1",
   "metadata": {},
   "source": [
    "---\n",
    "## Instalando e carregando pacotes no Python\n",
    "\n",
    "No terminal (apenas na primeira vez):\n",
    "\n",
    "```bash\n",
    "pip install pandas pyarrow requests\n",
    "```\n",
    "No código Python:\n"
   ]
  },
  {
   "cell_type": "code",
   "execution_count": null,
   "id": "d99c4ba9",
   "metadata": {},
   "outputs": [],
   "source": [
    "import pandas as pd\n",
    "import requests  # opcional\n",
    "pd.__version__"
   ]
  },
  {
   "cell_type": "markdown",
   "id": "9899899d",
   "metadata": {},
   "source": [
    "---\n",
    "## Introdução ao `pandas`\n",
    "\n",
    "### Começando pelo meio: DataFrames\n"
   ]
  },
  {
   "cell_type": "code",
   "execution_count": null,
   "id": "087e4971",
   "metadata": {},
   "outputs": [],
   "source": [
    "df = pd.DataFrame({\n",
    "    \"Candidato\": [\"Beatriz\", \"Danilo\", \"Pedro\", \"Davi\", \"Mateus\"],\n",
    "    \"Partido\":   [\"PMDB\", \"SOL\", \"PTB\", \"PSD\", \"PV\"],\n",
    "    \"Votos\":     [350, 1598, 784, 580, 2]\n",
    "})\n",
    "df"
   ]
  },
  {
   "cell_type": "markdown",
   "id": "095b8cd2",
   "metadata": {},
   "source": [
    "---\n",
    "## Cadastro de Escolas (SP)\n",
    "\n",
    "**URL dos dados (CSV):**\n",
    "```\n",
    "https://dados.prefeitura.sp.gov.br/dataset/8da55b0e-b385-4b54-9296-d0000014ddd5/resource/533188c6-1949-4976-ac4e-acd313415cd1/download/escolas122024.csv\n",
    "```\n",
    "\n",
    "### Abrindo dados em Python (com script)\n"
   ]
  },
  {
   "cell_type": "code",
   "execution_count": null,
   "id": "ee3ec4c5",
   "metadata": {},
   "outputs": [],
   "source": [
    "url_escolas = \"https://dados.prefeitura.sp.gov.br/dataset/8da55b0e-b385-4b54-9296-d0000014ddd5/resource/533188c6-1949-4976-ac4e-acd313415cd1/download/escolas122024.csv\"\n",
    "\n",
    "# sep=';' para equivaler ao read_csv2 do R\n",
    "escolas = pd.read_csv(url_escolas, sep=\";\", dtype=str, encoding=\"utf-8\")\n",
    "escolas.head(6)"
   ]
  },
  {
   "cell_type": "markdown",
   "id": "d3f1f81f",
   "metadata": {},
   "source": [
    "### Explorando sem “ver planilha”\n"
   ]
  },
  {
   "cell_type": "code",
   "execution_count": null,
   "id": "3a1976b5",
   "metadata": {},
   "outputs": [],
   "source": [
    "# número de linhas e colunas\n",
    "escolas.shape"
   ]
  },
  {
   "cell_type": "code",
   "execution_count": null,
   "id": "592f9004",
   "metadata": {},
   "outputs": [],
   "source": [
    "# nomes das colunas\n",
    "list(escolas.columns)[:20]"
   ]
  },
  {
   "cell_type": "code",
   "execution_count": null,
   "id": "e19ff291",
   "metadata": {},
   "outputs": [],
   "source": [
    "# estrutura dos dados\n",
    "escolas.info()"
   ]
  },
  {
   "cell_type": "markdown",
   "id": "842741f4",
   "metadata": {},
   "source": [
    "---\n",
    "## Renomeando variáveis\n"
   ]
  },
  {
   "cell_type": "code",
   "execution_count": null,
   "id": "29ddb66b",
   "metadata": {},
   "outputs": [],
   "source": [
    "escolas = escolas.rename(columns={\n",
    "    \"DRE\": \"dre_abreviatura\",\n",
    "    \"CODESC\": \"codigo\",\n",
    "    \"TIPOESC\": \"tipo\",\n",
    "    \"NOMES\": \"nome\",\n",
    "    \"DIRETORIA\": \"dre\",\n",
    "    \"LATITUDE\": \"lat\",\n",
    "    \"LONGITUDE\": \"lon\",\n",
    "    \"CODINEP\": \"codigo_inep\"\n",
    "})\n",
    "list(escolas.columns)[:12]"
   ]
  },
  {
   "cell_type": "markdown",
   "id": "67743236",
   "metadata": {},
   "source": [
    "---\n",
    "## Uma “gramática”, duas formas (encadeamento de métodos à la pipe)\n"
   ]
  },
  {
   "cell_type": "code",
   "execution_count": null,
   "id": "78968304",
   "metadata": {},
   "outputs": [],
   "source": [
    "# Recarrega e encadeia (method chaining) para ficar auto-contido\n",
    "escolas = (\n",
    "    pd.read_csv(url_escolas, sep=\";\", dtype=str, encoding=\"utf-8\")\n",
    "      .rename(columns={\n",
    "          \"DRE\": \"dre_abreviatura\",\n",
    "          \"CODESC\": \"codigo\",\n",
    "          \"TIPOESC\": \"tipo\",\n",
    "          \"NOMES\": \"nome\",\n",
    "          \"DIRETORIA\": \"dre\",\n",
    "          \"LATITUDE\": \"lat\",\n",
    "          \"LONGITUDE\": \"lon\",\n",
    "          \"CODINEP\": \"codigo_inep\"\n",
    "      })\n",
    "      # seleciona colunas de interesse\n",
    "      .loc[:, [\"dre_abreviatura\", \"codigo\", \"tipo\", \"nome\", \"dre\", \"lat\", \"lon\", \"codigo_inep\"]]\n",
    ")\n",
    "escolas.head()"
   ]
  },
  {
   "cell_type": "markdown",
   "id": "14972f37",
   "metadata": {},
   "source": [
    "---\n",
    "## Transformando variáveis (`mutate` → `.assign` / operações diretas)\n",
    "\n",
    "Vamos ajustar latitude/longitude para formato numérico com separador decimal correto.\n"
   ]
  },
  {
   "cell_type": "code",
   "execution_count": null,
   "id": "3f638997",
   "metadata": {},
   "outputs": [],
   "source": [
    "# Converter lat/lon\n",
    "escolas = (\n",
    "    escolas\n",
    "    .assign(\n",
    "        lat=lambda d: pd.to_numeric(d[\"lat\"], errors=\"coerce\") / 1_000_000,\n",
    "        lon=lambda d: pd.to_numeric(d[\"lon\"].str.replace(\".\", \"\", regex=False), errors=\"coerce\") / 1_000_000\n",
    "    )\n",
    ")\n",
    "escolas[[\"lat\",\"lon\"]].head()"
   ]
  },
  {
   "cell_type": "markdown",
   "id": "adb90abf",
   "metadata": {},
   "source": [
    "---\n",
    "## Filtrando linhas (`filter` → máscaras booleanas)\n",
    "\n",
    "Ex.: selecionar apenas **EMEIs**.\n"
   ]
  },
  {
   "cell_type": "code",
   "execution_count": null,
   "id": "7c75c5b6",
   "metadata": {},
   "outputs": [],
   "source": [
    "emeis = escolas[escolas[\"tipo\"] == \"EMEI\"].copy()\n",
    "emeis.head()"
   ]
  },
  {
   "cell_type": "markdown",
   "id": "9dc52a55",
   "metadata": {},
   "source": [
    "Ex.: **CEI DIRET**, **CEI INDIR** e **CR.P.CONV** (equivalente ao `OR`)."
   ]
  },
  {
   "cell_type": "code",
   "execution_count": null,
   "id": "93d5f8b1",
   "metadata": {},
   "outputs": [],
   "source": [
    "tipos_creche = [\"CEI DIRET\", \"CEI INDIR\", \"CR.P.CONV\"]\n",
    "creches = escolas[escolas[\"tipo\"].isin(tipos_creche)].copy()\n",
    "creches.head()"
   ]
  },
  {
   "cell_type": "markdown",
   "id": "5634b442",
   "metadata": {},
   "source": [
    "E combinando com outra variável (equivalente ao `AND`)."
   ]
  },
  {
   "cell_type": "code",
   "execution_count": null,
   "id": "10c1e5a9",
   "metadata": {},
   "outputs": [],
   "source": [
    "creches_ipiranga = creches[creches[\"dre\"] == \"DIRETORIA REGIONAL DE EDUCACAO IPIRANGA\"].copy()\n",
    "creches_ipiranga.head(), creches_ipiranga.shape"
   ]
  },
  {
   "cell_type": "markdown",
   "id": "2b079558",
   "metadata": {},
   "source": [
    "---\n",
    "## Extras úteis (contagens, ordenações, agrupamentos)\n"
   ]
  },
  {
   "cell_type": "code",
   "execution_count": null,
   "id": "8efea1b4",
   "metadata": {},
   "outputs": [],
   "source": [
    "# Amostra aleatória\n",
    "escolas.sample(6, random_state=42)"
   ]
  },
  {
   "cell_type": "code",
   "execution_count": null,
   "id": "eb642713",
   "metadata": {},
   "outputs": [],
   "source": [
    "# Contagem de categorias\n",
    "escolas[\"tipo\"].value_counts(dropna=False).head(10)"
   ]
  },
  {
   "cell_type": "code",
   "execution_count": null,
   "id": "e9a757a5",
   "metadata": {},
   "outputs": [],
   "source": [
    "# Agrupar e sumarizar (groupby + agg)\n",
    "(\n",
    "    escolas\n",
    "    .groupby(\"dre\", dropna=False)\n",
    "    .agg(qtd=(\"codigo\", \"count\"))\n",
    "    .reset_index()\n",
    "    .sort_values(\"qtd\", ascending=False)\n",
    "    .head(10)\n",
    ")"
   ]
  },
  {
   "cell_type": "markdown",
   "id": "005eb4d2",
   "metadata": {},
   "source": [
    "---\n",
    "## Pipeline completo (do zero ao subset final)\n"
   ]
  },
  {
   "cell_type": "code",
   "execution_count": null,
   "id": "b8cf479f",
   "metadata": {},
   "outputs": [],
   "source": [
    "url_escolas = \"https://dados.prefeitura.sp.gov.br/dataset/8da55b0e-b385-4b54-9296-d0000014ddd5/resource/533188c6-1949-4976-ac4e-acd313415cd1/download/escolas122024.csv\"\n",
    "tipos_creche = [\"CEI DIRET\", \"CEI INDIR\", \"CR.P.CONV\"]\n",
    "\n",
    "escolas_pipeline = (\n",
    "    pd.read_csv(url_escolas, sep=\";\", dtype=str, encoding=\"utf-8\")\n",
    "      .rename(columns={\n",
    "          \"DRE\": \"dre_abreviatura\",\n",
    "          \"CODESC\": \"codigo\",\n",
    "          \"TIPOESC\": \"tipo\",\n",
    "          \"NOMES\": \"nome\",\n",
    "          \"DIRETORIA\": \"dre\",\n",
    "          \"LATITUDE\": \"lat\",\n",
    "          \"LONGITUDE\": \"lon\",\n",
    "          \"CODINEP\": \"codigo_inep\"\n",
    "      })\n",
    "      .assign(\n",
    "          lat=lambda d: pd.to_numeric(d[\"lat\"], errors=\"coerce\") / 1_000_000,\n",
    "          lon=lambda d: pd.to_numeric(d[\"lon\"].str.replace(\".\", \"\", regex=False), errors=\"coerce\") / 1_000_000\n",
    "      )\n",
    "      .loc[:, [\"dre_abreviatura\", \"codigo\", \"tipo\", \"nome\", \"dre\", \"lat\", \"lon\", \"codigo_inep\"]]\n",
    ")\n",
    "\n",
    "creches_ipiranga = (\n",
    "    escolas_pipeline[\n",
    "        escolas_pipeline[\"tipo\"].isin(tipos_creche) &\n",
    "        (escolas_pipeline[\"dre\"] == \"DIRETORIA REGIONAL DE EDUCACAO IPIRANGA\")\n",
    "    ]\n",
    "    .copy()\n",
    ")\n",
    "\n",
    "escolas_pipeline.head(), creches_ipiranga.head(), creches_ipiranga.shape"
   ]
  }
 ],
 "metadata": {},
 "nbformat": 4,
 "nbformat_minor": 5
}
